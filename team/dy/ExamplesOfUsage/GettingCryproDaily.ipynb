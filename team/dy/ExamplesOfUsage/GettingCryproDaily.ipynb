{
 "cells": [
  {
   "cell_type": "code",
   "execution_count": 1,
   "id": "c5909caf",
   "metadata": {},
   "outputs": [],
   "source": [
    "#getting tweets, sentiments and subjectivity about cryptocurrency for the previous day\n",
    "#not suitable for binance since there is crypto exchange with the same name\n",
    "\n",
    "import TwitterLoaderDaily\n",
    "TwitterLoaderDaily.TwitLoader('ethereum', 20)"
   ]
  },
  {
   "cell_type": "code",
   "execution_count": null,
   "id": "147b33df",
   "metadata": {},
   "outputs": [],
   "source": []
  }
 ],
 "metadata": {
  "kernelspec": {
   "display_name": "Python 3 (ipykernel)",
   "language": "python",
   "name": "python3"
  },
  "language_info": {
   "codemirror_mode": {
    "name": "ipython",
    "version": 3
   },
   "file_extension": ".py",
   "mimetype": "text/x-python",
   "name": "python",
   "nbconvert_exporter": "python",
   "pygments_lexer": "ipython3",
   "version": "3.9.12"
  }
 },
 "nbformat": 4,
 "nbformat_minor": 5
}
