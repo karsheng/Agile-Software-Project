{
 "cells": [
  {
   "cell_type": "code",
   "execution_count": 2,
   "id": "e442f901",
   "metadata": {},
   "outputs": [],
   "source": [
    "#getting tweets, sentiments and subjectivity about stock market for the range of days\n",
    "#can be used for cryptocyrrency as well\n",
    "\n",
    "\n",
    "import TwitterSharesLoader\n",
    "TwitterSharesLoader.TwitLoader('(Microsoft OR MSFT) (#stocks)', '2022-8-5', '2022-8-9', 70)"
   ]
  }
 ],
 "metadata": {
  "kernelspec": {
   "display_name": "Python 3 (ipykernel)",
   "language": "python",
   "name": "python3"
  },
  "language_info": {
   "codemirror_mode": {
    "name": "ipython",
    "version": 3
   },
   "file_extension": ".py",
   "mimetype": "text/x-python",
   "name": "python",
   "nbconvert_exporter": "python",
   "pygments_lexer": "ipython3",
   "version": "3.9.12"
  }
 },
 "nbformat": 4,
 "nbformat_minor": 5
}
